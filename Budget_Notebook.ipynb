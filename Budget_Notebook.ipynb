{
 "cells": [
  {
   "cell_type": "code",
   "execution_count": null,
   "metadata": {},
   "outputs": [],
   "source": [
    "# Imports\n",
    "!pip install pandas\n",
    "import pandas as pd"
   ]
  },
  {
   "cell_type": "markdown",
   "metadata": {},
   "source": [
    "# Jupyter Budget Notebook\n",
    "\n",
    "#### This notebook takes in a Mint transaction.csv (Downloaded from the bottom of the mint transactions page) and provides many tinkerable charts for interpreting this data\n",
    "\n",
    "#### Ideally the Analyst correctly categorizes the transactions using the Mint app or web application.  After each item is correctly categorized this notebook will provide accurate results for financial planning"
   ]
  },
  {
   "cell_type": "code",
   "execution_count": null,
   "metadata": {},
   "outputs": [],
   "source": [
    "# Collects the csv files and turns it into a pandas dataframe\n",
    "\n",
    "csv_path = raw_input(\"Enter Path to CSV File: \")\n",
    "financial_data = pd.read_csv(csv_path)"
   ]
  },
  {
   "cell_type": "markdown",
   "metadata": {},
   "source": [
    "# Month to Month Spending\n",
    "#### This tracks how much you spend on a month to month basis"
   ]
  },
  {
   "cell_type": "code",
   "execution_count": null,
   "metadata": {},
   "outputs": [],
   "source": [
    "# Accumulate all Transactions by month\n",
    "    # Identify What is a deposit/Expense\n",
    "# Create a new Pandas dataframe with this data"
   ]
  },
  {
   "cell_type": "code",
   "execution_count": null,
   "metadata": {},
   "outputs": [],
   "source": []
  }
 ],
 "metadata": {
  "kernelspec": {
   "display_name": "Python 3",
   "language": "python",
   "name": "python3"
  },
  "language_info": {
   "codemirror_mode": {
    "name": "ipython",
    "version": 2
   },
   "file_extension": ".py",
   "mimetype": "text/x-python",
   "name": "python",
   "nbconvert_exporter": "python",
   "pygments_lexer": "ipython2",
   "version": "2.7.14"
  }
 },
 "nbformat": 4,
 "nbformat_minor": 2
}
